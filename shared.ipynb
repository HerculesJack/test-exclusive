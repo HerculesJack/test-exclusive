{
 "cells": [
  {
   "cell_type": "code",
   "execution_count": 1,
   "metadata": {},
   "outputs": [],
   "source": [
    "import bayesfast as bf\n",
    "import numpy as np\n",
    "import multiprocess\n",
    "from distributed import Client, LocalCluster"
   ]
  },
  {
   "cell_type": "code",
   "execution_count": 2,
   "metadata": {},
   "outputs": [],
   "source": [
    "D = 16 # number of dims\n",
    "a = 1.\n",
    "b = 0.5\n",
    "lower = np.full(D, -30.) # lower bound of the prior for x_1, ...\n",
    "upper = np.full(D, 30.) # upper bound of the prior for x_1, ...\n",
    "lower[0] = -4 # lower bound of the prior for x_0\n",
    "upper[0] = 4 # upper bound of the prior for x_0\n",
    "bound = np.array((lower, upper)).T\n",
    "diff = bound[:, 1] - bound[:, 0]\n",
    "const = np.sum(np.log(diff)) # normalization of the flat prior\n",
    "\n",
    "def logp(x):\n",
    "    n = x.shape[-1]\n",
    "    _a = -0.5 * x[..., 0]**2 / a**2\n",
    "    _b = -0.5 * np.sum(x[..., 1:]**2, axis=-1) * np.exp(-2 * b * x[..., 0])\n",
    "    _c = (-0.5 * np.log(2 * np.pi * a**2) - \n",
    "          0.5 * (n - 1) * np.log(2 * np.pi) - (n - 1) * b * x[..., 0])\n",
    "    return _a + _b + _c - const\n",
    "\n",
    "def grad(x):\n",
    "    n = x.shape[-1]\n",
    "    foo = -x / np.insert(np.full((*x.shape[:-1], n - 1), \n",
    "                                 np.exp(2 * b * x[..., 0])), 0, a**2, axis=-1)\n",
    "    foo[0] += b * np.sum(x[..., 1:]**2, axis=-1) * np.exp(-2 * b * x[..., 0])\n",
    "    foo[0] -= (n - 1) * b\n",
    "    return foo"
   ]
  },
  {
   "cell_type": "code",
   "execution_count": 3,
   "metadata": {},
   "outputs": [],
   "source": [
    "den = bf.DensityLite(logp=logp, grad=grad, input_size=D, input_scales=bound,\n",
    "                     hard_bounds=True)\n",
    "np.random.seed(0)\n",
    "x = np.random.randn(12, D)"
   ]
  },
  {
   "cell_type": "code",
   "execution_count": 4,
   "metadata": {},
   "outputs": [
    {
     "data": {
      "text/html": [
       "<table style=\"border: 2px solid white;\">\n",
       "<tr>\n",
       "<td style=\"vertical-align: top; border: 0px solid white\">\n",
       "<h3 style=\"text-align: left;\">Client</h3>\n",
       "<ul style=\"text-align: left; list-style: none; margin: 0; padding: 0;\">\n",
       "  <li><b>Scheduler: </b>tcp://127.0.0.1:34807</li>\n",
       "  <li><b>Dashboard: </b><a href='http://127.0.0.1:8787/status' target='_blank'>http://127.0.0.1:8787/status</a></li>\n",
       "</ul>\n",
       "</td>\n",
       "<td style=\"vertical-align: top; border: 0px solid white\">\n",
       "<h3 style=\"text-align: left;\">Cluster</h3>\n",
       "<ul style=\"text-align: left; list-style:none; margin: 0; padding: 0;\">\n",
       "  <li><b>Workers: </b>12</li>\n",
       "  <li><b>Cores: </b>12</li>\n",
       "  <li><b>Memory: </b>540.15 GB</li>\n",
       "</ul>\n",
       "</td>\n",
       "</tr>\n",
       "</table>"
      ],
      "text/plain": [
       "<Client: 'tcp://127.0.0.1:34807' processes=12 threads=12, memory=540.15 GB>"
      ]
     },
     "execution_count": 4,
     "metadata": {},
     "output_type": "execute_result"
    }
   ],
   "source": [
    "cluster = LocalCluster(n_workers=12, threads_per_worker=1)\n",
    "client = Client(cluster)\n",
    "client"
   ]
  },
  {
   "cell_type": "markdown",
   "metadata": {},
   "source": [
    "### 1. let's first map `den` using `dask`"
   ]
  },
  {
   "cell_type": "code",
   "execution_count": 5,
   "metadata": {},
   "outputs": [
    {
     "name": "stdout",
     "output_type": "stream",
     "text": [
      "CPU times: user 138 ms, sys: 31.1 ms, total: 169 ms\n",
      "Wall time: 1.47 s\n"
     ]
    },
    {
     "data": {
      "text/plain": [
       "array([-94.2455445 , -92.8864777 , -95.90057691, -86.70286387,\n",
       "       -83.33536339, -96.04281462, -91.81630551, -88.46533025,\n",
       "       -85.23804851, -99.53316646, -87.24607566, -91.3730939 ])"
      ]
     },
     "execution_count": 5,
     "metadata": {},
     "output_type": "execute_result"
    }
   ],
   "source": [
    "# first run using dask\n",
    "%time foo = client.gather(client.map(den, x))\n",
    "np.asarray(foo)"
   ]
  },
  {
   "cell_type": "code",
   "execution_count": 6,
   "metadata": {},
   "outputs": [
    {
     "name": "stdout",
     "output_type": "stream",
     "text": [
      "CPU times: user 19.3 ms, sys: 8.39 ms, total: 27.7 ms\n",
      "Wall time: 25.4 ms\n"
     ]
    },
    {
     "data": {
      "text/plain": [
       "array([-94.2455445 , -92.8864777 , -95.90057691, -86.70286387,\n",
       "       -83.33536339, -96.04281462, -91.81630551, -88.46533025,\n",
       "       -85.23804851, -99.53316646, -87.24607566, -91.3730939 ])"
      ]
     },
     "execution_count": 6,
     "metadata": {},
     "output_type": "execute_result"
    }
   ],
   "source": [
    "# second run using dask\n",
    "%time foo = client.gather(client.map(den, x))\n",
    "np.asarray(foo)"
   ]
  },
  {
   "cell_type": "code",
   "execution_count": 7,
   "metadata": {},
   "outputs": [
    {
     "name": "stdout",
     "output_type": "stream",
     "text": [
      "CPU times: user 17.7 ms, sys: 6.23 ms, total: 24 ms\n",
      "Wall time: 22 ms\n"
     ]
    },
    {
     "data": {
      "text/plain": [
       "array([-94.2455445 , -92.8864777 , -95.90057691, -86.70286387,\n",
       "       -83.33536339, -96.04281462, -91.81630551, -88.46533025,\n",
       "       -85.23804851, -99.53316646, -87.24607566, -91.3730939 ])"
      ]
     },
     "execution_count": 7,
     "metadata": {},
     "output_type": "execute_result"
    }
   ],
   "source": [
    "# third run using dask\n",
    "%time foo = client.gather(client.map(den, x))\n",
    "np.asarray(foo)"
   ]
  },
  {
   "cell_type": "markdown",
   "metadata": {},
   "source": [
    "### 2. then map `den` using `multiprocess`"
   ]
  },
  {
   "cell_type": "code",
   "execution_count": 8,
   "metadata": {},
   "outputs": [
    {
     "name": "stdout",
     "output_type": "stream",
     "text": [
      "CPU times: user 21.1 ms, sys: 194 µs, total: 21.3 ms\n",
      "Wall time: 20.7 ms\n"
     ]
    },
    {
     "data": {
      "text/plain": [
       "array([-94.2455445 , -92.8864777 , -95.90057691, -86.70286387,\n",
       "       -83.33536339, -96.04281462, -91.81630551, -88.46533025,\n",
       "       -85.23804851, -99.53316646, -87.24607566, -91.3730939 ])"
      ]
     },
     "execution_count": 8,
     "metadata": {},
     "output_type": "execute_result"
    }
   ],
   "source": [
    "# first run using multiprocess\n",
    "with multiprocess.Pool(12) as pool:\n",
    "    %time foo = pool.map(den, x)\n",
    "np.asarray(foo)"
   ]
  },
  {
   "cell_type": "code",
   "execution_count": 9,
   "metadata": {},
   "outputs": [
    {
     "name": "stdout",
     "output_type": "stream",
     "text": [
      "CPU times: user 16 ms, sys: 7.98 ms, total: 24 ms\n",
      "Wall time: 22.9 ms\n"
     ]
    },
    {
     "data": {
      "text/plain": [
       "array([-94.2455445 , -92.8864777 , -95.90057691, -86.70286387,\n",
       "       -83.33536339, -96.04281462, -91.81630551, -88.46533025,\n",
       "       -85.23804851, -99.53316646, -87.24607566, -91.3730939 ])"
      ]
     },
     "execution_count": 9,
     "metadata": {},
     "output_type": "execute_result"
    }
   ],
   "source": [
    "# second run using multiprocess\n",
    "with multiprocess.Pool(12) as pool:\n",
    "    %time foo = pool.map(den, x)\n",
    "np.asarray(foo)"
   ]
  },
  {
   "cell_type": "markdown",
   "metadata": {},
   "source": [
    "### 3. actually, `den` is `logp` plus some wrapper, so if we map `logp`, the smaller object, with `dask`"
   ]
  },
  {
   "cell_type": "code",
   "execution_count": 10,
   "metadata": {},
   "outputs": [
    {
     "name": "stdout",
     "output_type": "stream",
     "text": [
      "CPU times: user 15.6 ms, sys: 11.9 ms, total: 27.5 ms\n",
      "Wall time: 27.2 ms\n"
     ]
    },
    {
     "data": {
      "text/plain": [
       "array([-94.2455445 , -92.8864777 , -95.90057691, -86.70286387,\n",
       "       -83.33536339, -96.04281462, -91.81630551, -88.46533025,\n",
       "       -85.23804851, -99.53316646, -87.24607566, -91.3730939 ])"
      ]
     },
     "execution_count": 10,
     "metadata": {},
     "output_type": "execute_result"
    }
   ],
   "source": [
    "# first run using dask\n",
    "%time foo = client.gather(client.map(logp, x))\n",
    "np.asarray(foo)"
   ]
  },
  {
   "cell_type": "code",
   "execution_count": 11,
   "metadata": {},
   "outputs": [
    {
     "name": "stdout",
     "output_type": "stream",
     "text": [
      "CPU times: user 31.5 ms, sys: 1.41 ms, total: 32.9 ms\n",
      "Wall time: 30.1 ms\n"
     ]
    },
    {
     "data": {
      "text/plain": [
       "array([-94.2455445 , -92.8864777 , -95.90057691, -86.70286387,\n",
       "       -83.33536339, -96.04281462, -91.81630551, -88.46533025,\n",
       "       -85.23804851, -99.53316646, -87.24607566, -91.3730939 ])"
      ]
     },
     "execution_count": 11,
     "metadata": {},
     "output_type": "execute_result"
    }
   ],
   "source": [
    "# second run using dask\n",
    "%time foo = client.gather(client.map(logp, x))\n",
    "np.asarray(foo)"
   ]
  },
  {
   "cell_type": "code",
   "execution_count": null,
   "metadata": {},
   "outputs": [],
   "source": []
  }
 ],
 "metadata": {
  "kernelspec": {
   "display_name": "test-exclusive",
   "language": "python",
   "name": "test-exclusive"
  },
  "language_info": {
   "codemirror_mode": {
    "name": "ipython",
    "version": 3
   },
   "file_extension": ".py",
   "mimetype": "text/x-python",
   "name": "python",
   "nbconvert_exporter": "python",
   "pygments_lexer": "ipython3",
   "version": "3.6.10"
  }
 },
 "nbformat": 4,
 "nbformat_minor": 4
}
